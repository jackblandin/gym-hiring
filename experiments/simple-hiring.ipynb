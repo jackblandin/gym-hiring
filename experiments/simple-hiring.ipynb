{
 "cells": [
  {
   "cell_type": "markdown",
   "metadata": {},
   "source": [
    "# Documentation"
   ]
  },
  {
   "cell_type": "markdown",
   "metadata": {},
   "source": [
    "### State index to value mapping\n",
    "\n",
    "state index | cand gender | cand prod score | emp1 gender | emp1 prod score | emp2 gender | emp2 prod score\n",
    "--- | --- | --- | --- | --- | --- | ---\n",
    "0 | F | 0 | - | - | - | -\n",
    "1 | F | 1 | - | - | - | -\n",
    "2 | F | 2 | - | - | - | -\n",
    "3 | M | 0 | - | - | - | -\n",
    "4 | M | 1 | - | - | - | -\n",
    "5 | M | 2 | - | - | - | -"
   ]
  },
  {
   "cell_type": "markdown",
   "metadata": {},
   "source": [
    "# Setup"
   ]
  },
  {
   "cell_type": "code",
   "execution_count": 1,
   "metadata": {
    "ExecuteTime": {
     "end_time": "2020-08-03T22:41:27.090603Z",
     "start_time": "2020-08-03T22:41:25.833001Z"
    }
   },
   "outputs": [],
   "source": [
    "\"\"\"\n",
    "Add parent directorys to current path\n",
    "\"\"\"\n",
    "import os.path\n",
    "import sys\n",
    "\n",
    "\"\"\"\n",
    "Add gym-hiring directory to current path. I believe this is needed\n",
    "when referencing a pip \"file:///\" dependency.\n",
    "\"\"\"\n",
    "p = os.path.abspath('../')\n",
    "if p not in sys.path:\n",
    "    sys.path.insert(0, p)\n",
    "\n",
    "import logging    \n",
    "import gym\n",
    "import gym_hiring\n",
    "import matplotlib.pyplot as plt\n",
    "import numpy as np\n",
    "import seaborn as sns\n",
    "from experiments.gym_utils import play_n_episodes\n",
    "\n",
    "logging.getLogger().setLevel(logging.INFO)"
   ]
  },
  {
   "cell_type": "markdown",
   "metadata": {},
   "source": [
    "# Define Optimal Policy"
   ]
  },
  {
   "cell_type": "code",
   "execution_count": 11,
   "metadata": {
    "ExecuteTime": {
     "end_time": "2020-08-03T22:44:03.152800Z",
     "start_time": "2020-08-03T22:44:03.148608Z"
    }
   },
   "outputs": [],
   "source": [
    "class OptimalPoliciy:\n",
    "    \n",
    "    def __init__(self):\n",
    "        pass\n",
    "    \n",
    "    def select_action(self, obs, eps):\n",
    "        if obs[1] > 1:\n",
    "            return 1\n",
    "        else:\n",
    "            return 0\n",
    "    \n",
    "    def add_experience(self, prev_obs, action, reward, obs, done):\n",
    "        pass\n",
    "    \n",
    "    def train(self, iters):\n",
    "        pass"
   ]
  },
  {
   "cell_type": "markdown",
   "metadata": {},
   "source": [
    "# Execute Optimal Policy"
   ]
  },
  {
   "cell_type": "code",
   "execution_count": 5,
   "metadata": {
    "ExecuteTime": {
     "end_time": "2020-08-03T22:42:19.278138Z",
     "start_time": "2020-08-03T22:42:10.010093Z"
    }
   },
   "outputs": [
    {
     "name": "stderr",
     "output_type": "stream",
     "text": [
      "INFO:root:SimpleHiring - Version 0.0.1\n",
      "/Users/jblandin/research/gym-hiring/gym_hiring/envs/simple_hiring.py:117: RuntimeWarning: divide by zero encountered in true_divide\n",
      "  self.transition_probabilities.sum(axis=2, keepdims=True))\n",
      "/Users/jblandin/research/gym-hiring/gym_hiring/envs/simple_hiring.py:117: RuntimeWarning: invalid value encountered in true_divide\n",
      "  self.transition_probabilities.sum(axis=2, keepdims=True))\n",
      "INFO:root:Episode 0\n",
      "INFO:root:\tF, 1, -, -, -, -\n",
      "INFO:root:Episode 1\n",
      "INFO:root:\tF, 1, -, -, -, -\n"
     ]
    }
   ],
   "source": [
    "args = {'max_steps_per_episode': 10,\n",
    "        'verbose': True}\n",
    "\n",
    "env = gym.make('SimpleHiring-v0', **args)\n",
    "start_obs = env.reset()"
   ]
  },
  {
   "cell_type": "code",
   "execution_count": 12,
   "metadata": {
    "ExecuteTime": {
     "end_time": "2020-08-03T22:44:07.090588Z",
     "start_time": "2020-08-03T22:44:06.838654Z"
    },
    "scrolled": false
   },
   "outputs": [
    {
     "name": "stderr",
     "output_type": "stream",
     "text": [
      "INFO:root:Episode 5\n",
      "INFO:root:\tF, 1, -, -, -, -\n",
      "INFO:root:\tF, 0, -, -, -, -\n",
      "INFO:root:\tM, 2, -, -, -, -\n",
      "INFO:root:\tF, 0, M, 2, -, -\n",
      "INFO:root:\tF, 1, M, 2, -, -\n",
      "INFO:root:\tM, 1, M, 2, -, -\n",
      "INFO:root:\tF, 0, M, 2, -, -\n",
      "INFO:root:\tF, 1, M, 2, -, -\n",
      "INFO:root:\tM, 2, M, 2, -, -\n",
      "INFO:root:\tF, 1, M, 2, M, 2\n",
      "INFO:root:\tM, 2, M, 2, M, 2\n"
     ]
    },
    {
     "name": "stdout",
     "output_type": "stream",
     "text": [
      "episode: 0, total reward: 20.00, eps: 0.000, avg reward last 1: 20.000\n",
      "\n",
      "Total steps: 1\n",
      "Avg cumulative reward: 20.000\n",
      "Avg reward for last 1 episodes: 20.000\n"
     ]
    },
    {
     "data": {
      "image/png": "[encoded data removed]",
      "text/plain": [
       "<Figure size 432x288 with 1 Axes>"
      ]
     },
     "metadata": {
      "needs_background": "light"
     },
     "output_type": "display_data"
    },
    {
     "data": {
      "image/png": "[encoded data removed]",
      "text/plain": [
       "<Figure size 432x288 with 1 Axes>"
      ]
     },
     "metadata": {
      "needs_background": "light"
     },
     "output_type": "display_data"
    }
   ],
   "source": [
    "model = OptimalPoliciy()\n",
    "\n",
    "play_n_episodes(env, model, n=1)"
   ]
  },
  {
   "cell_type": "markdown",
   "metadata": {},
   "source": [
    "# Use IRL to compute reward function from optimal policy"
   ]
  },
  {
   "cell_type": "code",
   "execution_count": 9,
   "metadata": {
    "ExecuteTime": {
     "end_time": "2020-08-02T21:00:40.058314Z",
     "start_time": "2020-08-02T21:00:39.889630Z"
    }
   },
   "outputs": [
    {
     "name": "stdout",
     "output_type": "stream",
     "text": [
      "Optimal solution found.\n"
     ]
    },
    {
     "data": {
      "text/plain": [
       "array([0., 0., 0., 0., 0., 0., 0., 0., 0., 0.])"
      ]
     },
     "execution_count": 9,
     "metadata": {},
     "output_type": "execute_result"
    }
   ],
   "source": [
    "from experiments.irl.linear_irl import irl\n",
    "\n",
    "learned_reward = irl(env.n_states, env.n_actions, env.transition_probabilities, model.policy, 0, 4, 0)\n",
    "learned_reward"
   ]
  },
  {
   "cell_type": "markdown",
   "metadata": {},
   "source": [
    "# Learn new policy using learned reward (Value Iteration)"
   ]
  },
  {
   "cell_type": "markdown",
   "metadata": {},
   "source": [
    "# Execute new policy"
   ]
  },
  {
   "cell_type": "markdown",
   "metadata": {},
   "source": [
    "# Evaluate new policy"
   ]
  }
 ],
 "metadata": {
  "kernelspec": {
   "display_name": "gym-hiring",
   "language": "python",
   "name": "gym-hiring"
  },
  "language_info": {
   "codemirror_mode": {
    "name": "ipython",
    "version": 3
   },
   "file_extension": ".py",
   "mimetype": "text/x-python",
   "name": "python",
   "nbconvert_exporter": "python",
   "pygments_lexer": "ipython3",
   "version": "3.6.8"
  },
  "notify_time": "5",
  "toc": {
   "base_numbering": 1,
   "nav_menu": {},
   "number_sections": false,
   "sideBar": true,
   "skip_h1_title": false,
   "title_cell": "Table of Contents",
   "title_sidebar": "Contents",
   "toc_cell": false,
   "toc_position": {
    "height": "calc(100% - 180px)",
    "left": "10px",
    "top": "150px",
    "width": "450.9166564941406px"
   },
   "toc_section_display": true,
   "toc_window_display": false
  }
 },
 "nbformat": 4,
 "nbformat_minor": 4
}
